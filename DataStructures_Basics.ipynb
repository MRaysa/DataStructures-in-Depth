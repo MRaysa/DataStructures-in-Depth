{
  "cells": [
    {
      "cell_type": "markdown",
      "metadata": {
        "id": "ps_3fn7Gbf1I"
      },
      "source": [
        "#problem 1:\n",
        "\n",
        "write a function that takes a number and a character (as parameters) and prints\n",
        "a triangle that size using the spaceficed character."
      ]
    },
    {
      "cell_type": "code",
      "execution_count": null,
      "metadata": {
        "colab": {
          "base_uri": "https://localhost:8080/"
        },
        "id": "Cf7vl_bLluXU",
        "outputId": "060a339e-5ac7-4a80-ae3a-559564ec8b3b"
      },
      "outputs": [
        {
          "name": "stdout",
          "output_type": "stream",
          "text": [
            "Enter a number : 6\n",
            "Enter a character: MEEM\n",
            "MEEM \n",
            "MEEM MEEM \n",
            "MEEM MEEM MEEM \n",
            "MEEM MEEM MEEM MEEM \n",
            "MEEM MEEM MEEM MEEM MEEM \n",
            "MEEM MEEM MEEM MEEM MEEM MEEM \n"
          ]
        }
      ],
      "source": [
        "def triangle(n):\n",
        "  for i in range(number):\n",
        "    for j in range(i+1):\n",
        "      print(character,end=\" \")\n",
        "    print(\"\\r\")\n",
        "\n",
        "number=int(input(\"Enter a number : \"))\n",
        "character = input(\"Enter a character: \")\n",
        "\n",
        "triangle(number)"
      ]
    },
    {
      "cell_type": "markdown",
      "metadata": {
        "id": "VWbytMDYe8jz"
      },
      "source": [
        "#problem 2 :\n",
        "\n",
        "Write a function that takes the radius of a sphere as a parameter and return its volume."
      ]
    },
    {
      "cell_type": "code",
      "execution_count": null,
      "metadata": {
        "colab": {
          "base_uri": "https://localhost:8080/"
        },
        "id": "jnG0l8BRtbgb",
        "outputId": "d234934f-11f5-41aa-88b9-17502db4e98d"
      },
      "outputs": [
        {
          "name": "stdout",
          "output_type": "stream",
          "text": [
            "Enter a radius of a sphere : 6\n",
            "The volumn of sphere is  904.779 \n"
          ]
        }
      ],
      "source": [
        "import math\n",
        "\n",
        "def vol_sphere(r):\n",
        "    result = (4/3) * math.pi * r*r*r\n",
        "    return result\n",
        "\n",
        "rad = int(input(\"Enter a radius of a sphere : \"))\n",
        "volumn = vol_sphere(rad)\n",
        "\n",
        "print(f\"The volumn of sphere is {volumn : .3f} \")"
      ]
    },
    {
      "cell_type": "markdown",
      "metadata": {
        "id": "FhFeyfra9rhd"
      },
      "source": [
        "#Problem 3:\n",
        "Write a function that takes a number as parameter and returns the factorial."
      ]
    },
    {
      "cell_type": "code",
      "execution_count": null,
      "metadata": {
        "colab": {
          "base_uri": "https://localhost:8080/"
        },
        "id": "hwAA1Pxb9tZR",
        "outputId": "dc6f6977-fee1-4dd5-8f3e-02a323f57230"
      },
      "outputs": [
        {
          "name": "stdout",
          "output_type": "stream",
          "text": [
            "Enter a number : 7\n",
            "Factorial is:  5040\n"
          ]
        }
      ],
      "source": [
        "\n",
        "def factorial(n):\n",
        "\tfact=1\n",
        "\tfor i in range(1,n+1):\n",
        "\t\tfact=fact*i\n",
        "\treturn fact\n",
        "\n",
        "n=int(input(\"Enter a number : \"))\n",
        "ans=factorial(n)\n",
        "print('Factorial is: ',ans)"
      ]
    },
    {
      "cell_type": "markdown",
      "metadata": {
        "id": "kAJGMIx1_ct3"
      },
      "source": [
        "#Problem 4:\n",
        "Write a function that takes an integer as parameter and returns the number of digits."
      ]
    },
    {
      "cell_type": "code",
      "execution_count": null,
      "metadata": {
        "colab": {
          "base_uri": "https://localhost:8080/"
        },
        "id": "J5XnTjC4adXM",
        "outputId": "4b0c7832-b76e-4e8d-b285-d6ab0b9911df"
      },
      "outputs": [
        {
          "name": "stdout",
          "output_type": "stream",
          "text": [
            "Enter a number : 1548878\n",
            "The degit is :  7\n"
          ]
        }
      ],
      "source": [
        "def find_number_of_degit(n):\n",
        "  if n//10==0:\n",
        "    return 1\n",
        "  return 1+ find_number_of_degit(n//10)\n",
        "\n",
        "number=int(input(\"Enter a number : \"))\n",
        "ans=find_number_of_degit(number)\n",
        "print(\"The degit is : \", ans)"
      ]
    },
    {
      "cell_type": "markdown",
      "metadata": {
        "id": "oWaYigfmAAjo"
      },
      "source": [
        "#Problem 5:\n",
        "Write a function that takes an integer as parameter and returns the sum of digits."
      ]
    },
    {
      "cell_type": "code",
      "execution_count": null,
      "metadata": {
        "colab": {
          "base_uri": "https://localhost:8080/"
        },
        "id": "IIlWfh_OccJy",
        "outputId": "481ffe5f-4f0c-413e-8ed8-1f8f5a7547bb"
      },
      "outputs": [
        {
          "name": "stdout",
          "output_type": "stream",
          "text": [
            "Enter a number : 123456789\n",
            "The sum of this number :  45\n"
          ]
        }
      ],
      "source": [
        "def find_sum(n):\n",
        "  strr=str(n)\n",
        "  number=list(map(int,strr.strip()))\n",
        "  return sum(number)\n",
        "\n",
        "a= int(input(\"Enter a number : \"))\n",
        "print(\"The sum of this number : \", find_sum(a))"
      ]
    },
    {
      "cell_type": "markdown",
      "metadata": {
        "id": "IvnPNkxSFapC"
      },
      "source": [
        "#Poblem 6 :\n",
        "Write a function that takes an integer as parameter and returns the reverse number"
      ]
    },
    {
      "cell_type": "code",
      "execution_count": null,
      "metadata": {
        "colab": {
          "base_uri": "https://localhost:8080/"
        },
        "id": "2tP20CkDfCSv",
        "outputId": "22c4f6d5-e30f-44f4-bfe9-8f51c2cb32d9"
      },
      "outputs": [
        {
          "name": "stdout",
          "output_type": "stream",
          "text": [
            "Enter a number : 123456789\n",
            "After Reversing this number :  987654321\n"
          ]
        }
      ],
      "source": [
        "def revers_number(n):\n",
        "  return n[::-1]\n",
        "\n",
        "a=input(\"Enter a number : \")\n",
        "print(\"After Reversing this number : \", revers_number(a))"
      ]
    },
    {
      "cell_type": "markdown",
      "metadata": {
        "id": "DA99P5f7DgCP"
      },
      "source": [
        "#Problem 7:\n",
        "Write a function that takes two number as parameter and returns their HFC."
      ]
    },
    {
      "cell_type": "code",
      "execution_count": null,
      "metadata": {
        "colab": {
          "base_uri": "https://localhost:8080/"
        },
        "id": "Hjx3al-6t-bI",
        "outputId": "0e7d4152-73ab-4b2b-f1e8-e8f8af2aab87"
      },
      "outputs": [
        {
          "name": "stdout",
          "output_type": "stream",
          "text": [
            "Enter a number : 12\n",
            "Enter a number : 33\n",
            "The HFC is :  3\n"
          ]
        }
      ],
      "source": [
        "def find_hfc(x,y):\n",
        "  if x<y:\n",
        "    little=x\n",
        "  else:\n",
        "    little=y\n",
        "  for i in range(1,little+1):\n",
        "    if(x % i ==0) and (y % i== 0):\n",
        "      hfc=i\n",
        "  return hfc\n",
        "\n",
        "num1=int(input(\"Enter a number : \"))\n",
        "num2=int(input(\"Enter a number : \"))\n",
        "ans=find_hfc(num1,num2)\n",
        "print(\"The HFC is : \", ans)"
      ]
    },
    {
      "cell_type": "markdown",
      "metadata": {
        "id": "IP5B7hpnFHTI"
      },
      "source": [
        "#Problem 8:\n",
        "Write a function that takes two number as parameter and returns their LCM."
      ]
    },
    {
      "cell_type": "code",
      "execution_count": null,
      "metadata": {
        "colab": {
          "base_uri": "https://localhost:8080/"
        },
        "id": "R8-rmchDvJo0",
        "outputId": "86b36383-840a-4715-aa66-26bb1c442591"
      },
      "outputs": [
        {
          "name": "stdout",
          "output_type": "stream",
          "text": [
            "Enter a number : 3\n",
            "Enter a number : 4\n",
            "The lcm is  12 .\n"
          ]
        }
      ],
      "source": [
        "def lcm(n1, n2):\n",
        "    value = max(n1, n2)\n",
        "    n = 1\n",
        "    while True:\n",
        "        ans = value * n\n",
        "        if ans % n1 == 0 and ans % n2 == 0:\n",
        "            print(\"The lcm is \", ans, \".\")\n",
        "            break\n",
        "        n += 1\n",
        "n1 = int(input(\"Enter a number : \"))\n",
        "n2 = int(input(\"Enter a number : \"))\n",
        "lcm(n1, n2)"
      ]
    },
    {
      "cell_type": "markdown",
      "metadata": {
        "id": "xE5duQ-6v7af"
      },
      "source": [
        "#problem 9:\n",
        "write a function that checks if a number is prime or not.if the number is prime the function returns true, otherwise false.Also try function for checking perfect numbers and palindromes."
      ]
    },
    {
      "cell_type": "code",
      "execution_count": null,
      "metadata": {
        "colab": {
          "base_uri": "https://localhost:8080/"
        },
        "id": "PLp-HFslROh9",
        "outputId": "3d55d121-16c9-41b9-8242-25880d8b2bd8"
      },
      "outputs": [
        {
          "name": "stdout",
          "output_type": "stream",
          "text": [
            "Enter a number: 7\n",
            "7 is a prime number\n",
            "True\n",
            "7 is not perfect number\n",
            "The number is a palindrome!\n"
          ]
        }
      ],
      "source": [
        "def isprime(num):\n",
        "  flag = False\n",
        "  if num > 1:\n",
        "    for i in range(2, num):\n",
        "        if (num % i) == 0:\n",
        "            flag = True\n",
        "            break\n",
        "    if flag:\n",
        "       print(num, \"is not a prime number\")\n",
        "    else:\n",
        "      print(num, \"is a prime number\")\n",
        "\n",
        "    if num> 1:\n",
        "        for n in range(2,num):\n",
        "            if (num % n) == 0:\n",
        "                return False\n",
        "        return True\n",
        "    else:\n",
        "        return False\n",
        "num= int(input(\"Enter a number: \"))\n",
        "print( isprime(num))\n",
        "\n",
        "result = 0\n",
        "for  i in range (1,num):\n",
        "    if(num%i)==0:\n",
        "        result = result+i\n",
        "if result == num:\n",
        "    print(num,\"is perfect number\")\n",
        "else:\n",
        "    print(num,\"is not perfect number\")\n",
        "\n",
        "temp=num\n",
        "rev=0\n",
        "while(num>0):\n",
        "    dig=num%10\n",
        "    rev=rev*10+dig\n",
        "    num=num//10\n",
        "if(temp==rev):\n",
        "    print(\"The number is a palindrome!\")\n",
        "else:\n",
        "    print(\"The number isn't a palindrome!\")"
      ]
    },
    {
      "cell_type": "markdown",
      "metadata": {
        "id": "ePHf4Ld5YarO"
      },
      "source": [
        "#PROBLEM 10\n",
        "Write a function that sorts an array of numbers. In the main function,first create and point the unsorted array,then use the function to\n",
        "sort the array,then print the sorted array.\n"
      ]
    },
    {
      "cell_type": "code",
      "execution_count": null,
      "metadata": {
        "colab": {
          "base_uri": "https://localhost:8080/"
        },
        "id": "FwnAGY0QNB3h",
        "outputId": "8c954f41-e039-460d-cae4-2b57933cf46d"
      },
      "outputs": [
        {
          "name": "stdout",
          "output_type": "stream",
          "text": [
            "How many elements in the array?: 6\n",
            "Enter number: 11\n",
            "Enter number: 44\n",
            "Enter number: 9\n",
            "Enter number: 88\n",
            "Enter number: 100\n",
            "Enter number: 3\n",
            "[11, 44, 9, 88, 100, 3]\n",
            "Unsorted Array:  [11, 44, 9, 88, 100, 3]\n",
            "Sorted Array:  [3, 9, 11, 44, 88, 100]\n"
          ]
        }
      ],
      "source": [
        "array_size = int(input(\"How many elements in the array?: \"))\n",
        "myArray = [0] * array_size\n",
        "\n",
        "for i in range(array_size):\n",
        "    number = int(input(\"Enter number: \"))\n",
        "    myArray[i] = number\n",
        "\n",
        "print(myArray)\n",
        "def find_array(array, size):\n",
        "    for i in range(size - 1):\n",
        "        for j in range(size - i - 1):\n",
        "            if array[j] > array[j + 1]:\n",
        "                temp = array[j]\n",
        "                array[j] = array[j + 1]\n",
        "                array[j + 1] = temp\n",
        "\n",
        "\n",
        "print(\"Unsorted Array: \",myArray)\n",
        "find_array(myArray, array_size)\n",
        "print(\"Sorted Array: \",myArray)"
      ]
    },
    {
      "cell_type": "markdown",
      "metadata": {
        "id": "1X-JCVD1e5GV"
      },
      "source": [
        "#Problem 11\n",
        "write a function that returns the minimum, maximum and average value of an array passed as a parameter."
      ]
    },
    {
      "cell_type": "code",
      "execution_count": null,
      "metadata": {
        "colab": {
          "base_uri": "https://localhost:8080/"
        },
        "id": "sIneKHZMGO4g",
        "outputId": "93252171-8a2c-4c47-df7d-ca17a65c7b81"
      },
      "outputs": [
        {
          "name": "stdout",
          "output_type": "stream",
          "text": [
            "How many numbers ? 5\n",
            "number: 44\n",
            "number: 55\n",
            "number: 556\n",
            "number: 2\n",
            "number: 88\n",
            "List is :  [44, 55, 556, 2, 88]\n",
            "The max value of this number : 556\n",
            "The min value of this number : 2\n",
            "The average value of this number : 149.0\n"
          ]
        }
      ],
      "source": [
        "def find_min_max_avrg(a,n):\n",
        "  mx=max(a)\n",
        "  mn=min(a)\n",
        "  avrg=sum(a)/len(a)\n",
        "  return mx,mn,avrg\n",
        "\n",
        "a = list()\n",
        "i = 0\n",
        "n = int(input('How many numbers ? '))\n",
        "while i < n:\n",
        "  a.append(int(input('number: ')))\n",
        "  i+=1\n",
        "\n",
        "\n",
        "print(\"List is : \",a)\n",
        "\n",
        "mx,mn,avrg=find_min_max_avrg(a,n)\n",
        "\n",
        "print(\"The max value of this number :\",mx)\n",
        "print(\"The min value of this number :\",mn)\n",
        "print(\"The average value of this number :\",avrg)"
      ]
    },
    {
      "cell_type": "markdown",
      "metadata": {
        "id": "nHuTsapN9UTe"
      },
      "source": [
        "#Problem 12\n",
        "write a function that takes a string as parameter and returns the number of words in that string."
      ]
    },
    {
      "cell_type": "code",
      "execution_count": null,
      "metadata": {
        "colab": {
          "base_uri": "https://localhost:8080/"
        },
        "id": "6Ox1Zy0Ugbcv",
        "outputId": "5725c2c5-fe14-4e33-bf20-b9cd6faaba5c"
      },
      "outputs": [
        {
          "name": "stdout",
          "output_type": "stream",
          "text": [
            "Enter a string : aysa siddika meem\n",
            "Number of words:  3\n"
          ]
        }
      ],
      "source": [
        "def find_words(letter):\n",
        "  find_space=0\n",
        "  for i in letter:\n",
        "    if i ==\" \":\n",
        "      find_space=find_space+1\n",
        "  return find_space+1\n",
        "n=str(input(\"Enter a string : \"))\n",
        "num_words=find_words(n)\n",
        "print(\"Number of words: \",num_words)"
      ]
    },
    {
      "cell_type": "markdown",
      "metadata": {
        "id": "1X7HXewOhBeD"
      },
      "source": [
        "#Problem 13\n",
        "write a function that takes a string as parameter,changes all the leters to uppercase letter and returns the update string."
      ]
    },
    {
      "cell_type": "code",
      "execution_count": null,
      "metadata": {
        "colab": {
          "base_uri": "https://localhost:8080/"
        },
        "id": "EVX_bxtF_J02",
        "outputId": "3606444a-d20a-4131-8b5d-a5b7b01b6c3b"
      },
      "outputs": [
        {
          "name": "stdout",
          "output_type": "stream",
          "text": [
            "Enter a string : aysa siddika meem\n",
            "AYSA SIDDIKA MEEM\n"
          ]
        }
      ],
      "source": [
        "def to_upper(mystring):\n",
        "    output = \"\"\n",
        "\n",
        "    for eachChar in mystring:\n",
        "        ascii_value = ord(eachChar)\n",
        "        if ord('a') <= ascii_value <= ord('z'):\n",
        "            myChar = ascii_value - 96\n",
        "            upperChar = 64 + myChar\n",
        "            output = output + chr(upperChar)\n",
        "        else:\n",
        "            output = output + eachChar\n",
        "\n",
        "    return output\n",
        "\n",
        "string = input(\"Enter a string : \")\n",
        "print(to_upper(string))\n"
      ]
    },
    {
      "cell_type": "markdown",
      "metadata": {
        "id": "1822U8ydhF5p"
      },
      "source": [
        "#Problem 14\n",
        "Write a function that takes an IUB student ID as a string parameter , than checks if the ID is valid. IF the ID is valid the function\n",
        "returns true, otherwise it returns false."
      ]
    },
    {
      "cell_type": "code",
      "execution_count": null,
      "metadata": {
        "colab": {
          "base_uri": "https://localhost:8080/"
        },
        "id": "6OyRCxkD043t",
        "outputId": "f4bae741-7ef8-4ee2-bdc4-5b4984ce14d4"
      },
      "outputs": [
        {
          "name": "stdout",
          "output_type": "stream",
          "text": [
            "Enter Admission year : 2022\n",
            "Enter student ID: 2220281\n",
            "ID is Valid\n"
          ]
        }
      ],
      "source": [
        "def find_std_ID(string, start, end):\n",
        "    gain = \"\"\n",
        "    while start < end:\n",
        "        gain = gain + string[start]\n",
        "        start = start + 1\n",
        "    return gain\n",
        "\n",
        "adm_year = input(\"Enter Admission year : \")\n",
        "std_ID = input(\"Enter student ID: \")\n",
        "\n",
        "valid = False\n",
        "\n",
        "if len(std_ID) == 7:\n",
        "    last_digit = find_std_ID(adm_year, 2, 4)\n",
        "    first_two_digit = find_std_ID(std_ID, 0, 2)\n",
        "\n",
        "    if first_two_digit== last_digit:\n",
        "        third_digit = find_std_ID(std_ID, 2, 3)\n",
        "        valid = True\n",
        "\n",
        "if valid:\n",
        "    print(\"ID is Valid\")\n",
        "else:\n",
        "    print(\"ID is not Valid\")"
      ]
    },
    {
      "cell_type": "markdown",
      "metadata": {
        "id": "OyCKTd91iD99"
      },
      "source": [
        "#Problem 15\n",
        "Write a function that returns https://lmgtfy.app/?q=the+answer+to+life+the+universe+and+everything"
      ]
    },
    {
      "cell_type": "code",
      "execution_count": null,
      "metadata": {
        "colab": {
          "base_uri": "https://localhost:8080/"
        },
        "id": "k-IJolT0ixdn",
        "outputId": "e6765692-95e3-4203-d75a-0dccc35b9174"
      },
      "outputs": [
        {
          "name": "stdout",
          "output_type": "stream",
          "text": [
            "https://lmgtfy.app/?q=the+answer+to+life+the+universe+and+everything\n"
          ]
        }
      ],
      "source": [
        "print(\"https://lmgtfy.app/?q=the+answer+to+life+the+universe+and+everything\")"
      ]
    }
  ],
  "metadata": {
    "colab": {
      "provenance": []
    },
    "kernelspec": {
      "display_name": "Python 3",
      "name": "python3"
    },
    "language_info": {
      "name": "python",
      "version": "3.10.7"
    }
  },
  "nbformat": 4,
  "nbformat_minor": 0
}

{
  "cells": [
    {
      "cell_type": "markdown",
      "metadata": {
        "id": "pVT6hFWhU1Wj"
      },
      "source": [
        "# ***Name : Mst. Aysa Siddika Meem***.\n"
      ]
    },
    {
      "cell_type": "markdown",
      "metadata": {
        "id": "VxPWYKq9QD_g"
      },
      "source": [
        "#1.\n",
        " Write a recursive program to find the sum of first n numbers.\n",
        "sum = 1 +2 + 3 + …….n"
      ]
    },
    {
      "cell_type": "code",
      "execution_count": null,
      "metadata": {
        "colab": {
          "base_uri": "https://localhost:8080/"
        },
        "id": "zCtcCD1JxJAE",
        "outputId": "77eeeaea-cd3b-46a3-87ea-d17a9ad7f145"
      },
      "outputs": [
        {
          "name": "stdout",
          "output_type": "stream",
          "text": [
            "Enter a number : 5\n",
            "Sum of recursive number 15\n"
          ]
        }
      ],
      "source": [
        "def recurs_sum_n(n):\n",
        "    if n == 0:\n",
        "        return 0\n",
        "    else:\n",
        "        return n + recurs_sum_n(n-1)\n",
        "\n",
        "\n",
        "num=int(input(\"Enter a number : \"))\n",
        "if num<0:\n",
        "  print(\"Enter a positive number \")\n",
        "else:\n",
        "  print(\"Sum of recursive number\",recurs_sum_n(num))\n"
      ]
    },
    {
      "cell_type": "markdown",
      "metadata": {
        "id": "ycFT6peRhU4_"
      },
      "source": [
        "#2.\n",
        "Given a string, check whether the string is a palindrome or not . Write the\n",
        "recursive function. The function will return true or false"
      ]
    },
    {
      "cell_type": "code",
      "execution_count": null,
      "metadata": {
        "colab": {
          "base_uri": "https://localhost:8080/"
        },
        "id": "jUoXTpql2duR",
        "outputId": "c1b54f23-43d6-4da8-946a-563dd2c01c61"
      },
      "outputs": [
        {
          "name": "stdout",
          "output_type": "stream",
          "text": [
            "Enter a string : racecar\n",
            "True\n"
          ]
        }
      ],
      "source": [
        "def recurs_str_palindrome(string):\n",
        "  if len(string)== 0 :\n",
        "    return True\n",
        "  else:\n",
        "    if string[0] == string[-1]:\n",
        "      return recurs_str_palindrome(string[1 : -1])\n",
        "    else:\n",
        "      return False\n",
        "\n",
        "a= str(input(\"Enter a string : \"))\n",
        "\n",
        "if recurs_str_palindrome(a)==True:\n",
        "  print(\"True\")\n",
        "else:\n",
        "  print(\"False\")"
      ]
    },
    {
      "cell_type": "markdown",
      "metadata": {
        "id": "HrjgO1Nt5kfp"
      },
      "source": [
        "#3.\n",
        " Given a integer number, check whether it is palindrome or not. Write recursive\n",
        "function. It will return true or false"
      ]
    },
    {
      "cell_type": "code",
      "execution_count": null,
      "metadata": {
        "colab": {
          "base_uri": "https://localhost:8080/"
        },
        "id": "yoKenP4S8Ecv",
        "outputId": "46919bef-d88b-4f67-d90f-1819f301ae8c"
      },
      "outputs": [
        {
          "name": "stdout",
          "output_type": "stream",
          "text": [
            "Enter a number : 12321\n"
          ]
        },
        {
          "data": {
            "text/plain": [
              "True"
            ]
          },
          "execution_count": 2,
          "metadata": {},
          "output_type": "execute_result"
        }
      ],
      "source": [
        "def is_palindrome(n):\n",
        "    if n < 0:\n",
        "        n = abs(n)\n",
        "    if n < 10:\n",
        "        return True\n",
        "    else:\n",
        "        last_digit = n % 10\n",
        "        first_digit = n // (10**(len(str(n))-1))\n",
        "        if first_digit != last_digit:\n",
        "            return False\n",
        "        else:\n",
        "            return is_palindrome((n - first_digit * 10**(len(str(n))-1)) // 10)\n",
        "\n",
        "\n",
        "num   = int(input(\"Enter a number : \"))\n",
        "is_palindrome(num)"
      ]
    },
    {
      "cell_type": "markdown",
      "metadata": {
        "id": "LqPl97j0aQPf"
      },
      "source": [
        "#4.\n",
        " Given two integers, find and print the GCD (Greatest Common Divisor) of them. The\n",
        "function will return the GCD"
      ]
    },
    {
      "cell_type": "code",
      "execution_count": null,
      "metadata": {
        "colab": {
          "base_uri": "https://localhost:8080/"
        },
        "id": "vtHjhREQaVSd",
        "outputId": "1d768020-b8b1-47bf-fc73-9c4a24cf815b"
      },
      "outputs": [
        {
          "name": "stdout",
          "output_type": "stream",
          "text": [
            "Enter a number : 25\n",
            "Enter a number : 10\n"
          ]
        },
        {
          "data": {
            "text/plain": [
              "5"
            ]
          },
          "execution_count": 5,
          "metadata": {},
          "output_type": "execute_result"
        }
      ],
      "source": [
        "def gcd(a, b):\n",
        "    if b == 0:\n",
        "        return a\n",
        "    else:\n",
        "        return gcd(b, a % b)\n",
        "\n",
        "a = int(input(\"Enter a number : \"))\n",
        "b = int(input(\"Enter a number : \"))\n",
        "\n",
        "gcd(a,b)"
      ]
    },
    {
      "cell_type": "markdown",
      "metadata": {
        "id": "lpESpRtj10XK"
      },
      "source": [
        "#5.\n",
        "Reverse a string using Recursion"
      ]
    },
    {
      "cell_type": "code",
      "execution_count": null,
      "metadata": {
        "colab": {
          "base_uri": "https://localhost:8080/"
        },
        "id": "kiZXa8ll13Vx",
        "outputId": "52db257e-c4be-4c2b-f738-15577649d38d"
      },
      "outputs": [
        {
          "name": "stdout",
          "output_type": "stream",
          "text": [
            "Enter a string : SIDDIKA\n",
            "The reversed string is : AKIDDIS\n"
          ]
        }
      ],
      "source": [
        "def recur_reverse_str(s):\n",
        "  if len(s)==1:\n",
        "    return s\n",
        "  else:\n",
        "    return recur_reverse_str(s[1:]) +s[0]\n",
        "\n",
        "string=input(\"Enter a string : \")\n",
        "\n",
        "print(\"The reversed string is : \", end=\"\")\n",
        "print(recur_reverse_str(string))"
      ]
    },
    {
      "cell_type": "markdown",
      "metadata": {
        "id": "LZWORrJb5nW5"
      },
      "source": [
        "#6.\n",
        " Change the print_all function of a linked list to print all the value of\n",
        "nodes recursively."
      ]
    },
    {
      "cell_type": "code",
      "execution_count": null,
      "metadata": {
        "colab": {
          "base_uri": "https://localhost:8080/"
        },
        "id": "WG7jscEldwOJ",
        "outputId": "3fda1c63-5bf7-4f23-af5e-33660d17f5aa"
      },
      "outputs": [
        {
          "name": "stdout",
          "output_type": "stream",
          "text": [
            "1\n",
            "2\n",
            "3\n"
          ]
        }
      ],
      "source": [
        "class Node:\n",
        "    def __init__(self, data):\n",
        "        self.data = data\n",
        "        self.next = None\n",
        "\n",
        "class LinkedList:\n",
        "    def __init__(self):\n",
        "        self.head = None\n",
        "\n",
        "    def add_node(self, data):\n",
        "        new_node = Node(data)\n",
        "        if self.head is None:\n",
        "            self.head = new_node\n",
        "        else:\n",
        "            last = self.head\n",
        "            while last.next is not None:\n",
        "                last = last.next\n",
        "            last.next = new_node\n",
        "\n",
        "    def print_all(self):\n",
        "        if self.head is None:\n",
        "            print(\"The list is empty.\")\n",
        "        else:\n",
        "            self._print_all_recursive(self.head)\n",
        "\n",
        "    def _print_all_recursive(self, node):\n",
        "        print(node.data)\n",
        "        if node.next is not None:\n",
        "            self._print_all_recursive(node.next)\n",
        "\n",
        "\n",
        "\n",
        "linked_list = LinkedList()\n",
        "linked_list.add_node(1)\n",
        "linked_list.add_node(2)\n",
        "linked_list.add_node(3)\n",
        "\n",
        "\n",
        "linked_list.print_all()\n"
      ]
    },
    {
      "cell_type": "markdown",
      "metadata": {
        "id": "6m2ZVSUmybl2"
      },
      "source": [
        "#7.\n",
        "Delete the k-th th Node in a linked list using Recursion"
      ]
    },
    {
      "cell_type": "code",
      "execution_count": null,
      "metadata": {
        "colab": {
          "base_uri": "https://localhost:8080/"
        },
        "id": "tzmVMcSYX8DG",
        "outputId": "14a4dcbd-f363-4358-9d20-1aeb38e209d2"
      },
      "outputs": [
        {
          "name": "stdout",
          "output_type": "stream",
          "text": [
            "90->110\n"
          ]
        }
      ],
      "source": [
        "class Node:\n",
        "    def __init__(self):\n",
        "        self.data = 0\n",
        "        self.next = None\n",
        "\n",
        "class LinkedList:\n",
        "    def __init__(self):\n",
        "        self.head = None\n",
        "\n",
        "    def append(self, value):\n",
        "        new_node = Node()\n",
        "        new_node.data = value\n",
        "\n",
        "        if self.head is None:\n",
        "            self.head = new_node\n",
        "        else:\n",
        "            current = self.head\n",
        "\n",
        "            while current.next is not None:\n",
        "                current = current.next\n",
        "\n",
        "            current.next = new_node\n",
        "\n",
        "    def print_all(self, head=-1):\n",
        "        if head == -1:\n",
        "            head = self.head\n",
        "\n",
        "        if head is None:\n",
        "            print(\"List is empty\")\n",
        "        else:\n",
        "            print(head.data, end=\"\")\n",
        "            if head.next is None:\n",
        "                print()\n",
        "            else:\n",
        "                print(\"->\", end=\"\")\n",
        "                self.print_all(head.next)\n",
        "\n",
        "\n",
        "    def delete_kth_nodes(self, k):\n",
        "        if self.head is None:\n",
        "            print(\"List is empty\")\n",
        "        else:\n",
        "            if k > 0:\n",
        "                temp = self.head\n",
        "                self.head = self.head.next\n",
        "                temp.next = None\n",
        "                del temp\n",
        "                self.delete_k_nodes(k - 1)\n",
        "\n",
        "\n",
        "myList = LinkedList()\n",
        "\n",
        "myList.append(60)\n",
        "myList.append(88)\n",
        "myList.append(43)\n",
        "myList.append(60)\n",
        "myList.append(90)\n",
        "myList.append(110)\n",
        "\n",
        "\n",
        "myList.delete_kth_nodes(4)\n",
        "myList.print_all()"
      ]
    },
    {
      "cell_type": "markdown",
      "metadata": {
        "id": "wAWtl6HIiHZU"
      },
      "source": [
        "#8.\n",
        " This problem is about generating Power set in lexicographical order.\n",
        "Examples :\n",
        "```bash\n",
        "• Input : abc\n",
        "```\n",
        "```\n",
        "• Output : a ab abc ac b bc c\n",
        "```"
      ]
    },
    {
      "cell_type": "code",
      "execution_count": null,
      "metadata": {
        "colab": {
          "base_uri": "https://localhost:8080/"
        },
        "id": "eg45m_xsibPb",
        "outputId": "31c3fa54-870b-4274-b7bb-12e27eb685c2"
      },
      "outputs": [
        {
          "name": "stdout",
          "output_type": "stream",
          "text": [
            "abc\n",
            "ab\n",
            "ac\n",
            "a\n",
            "bc\n",
            "b\n",
            "c\n",
            "\n"
          ]
        }
      ],
      "source": [
        "def power_set_lex(string):\n",
        "    string = ''.join(sorted(string))\n",
        "    def generate_power_set(index, subset):\n",
        "        if index == len(string):\n",
        "            print(subset)\n",
        "            return\n",
        "\n",
        "        generate_power_set(index + 1, subset + string[index])\n",
        "        generate_power_set(index + 1, subset)\n",
        "    generate_power_set(0, '')\n",
        "\n",
        "power_set_lex('abc')"
      ]
    },
    {
      "cell_type": "markdown",
      "metadata": {
        "id": "tNdhwHGPJ6ur"
      },
      "source": [
        "#9.\n",
        "Given a linked list, print alternate nodes of this linked list.\n",
        "\n",
        "Examples :\n",
        "\n",
        "Input : 1 -&gt; 2 -&gt; 3 -&gt; 4 -&gt; 5 -&gt; 6 -&gt; 7 -&gt; 8 -&gt; 9 -&gt; 10\n",
        "\n",
        "Output : 1 -&gt; 3 -&gt; 5 -&gt; 7 -&gt; 9\n",
        "\n",
        "Input : 10 -&gt; 9\n",
        "\n",
        "Output : 10"
      ]
    },
    {
      "cell_type": "code",
      "execution_count": null,
      "metadata": {
        "colab": {
          "base_uri": "https://localhost:8080/"
        },
        "id": "p9ynOsOHnBOt",
        "outputId": "02da723b-be31-469d-f46f-0cc745a9cf16"
      },
      "outputs": [
        {
          "name": "stdout",
          "output_type": "stream",
          "text": [
            "Initial list\n",
            "10->91->19->20->19->11->100->200->\n",
            "Alternates:\n",
            "10->19->19->100->"
          ]
        }
      ],
      "source": [
        "class Node:\n",
        "  def __init__(self, data):\n",
        "    self.data = data\n",
        "    self.next = None\n",
        "\n",
        "class SinglyLinkedList:\n",
        "  def __init__(self):\n",
        "    self.head = None\n",
        "    self.size = 0\n",
        "\n",
        "\n",
        "  def append(self, new_data):\n",
        "    new_node = Node(new_data)\n",
        "    if self.head is None:\n",
        "      self.head = new_node\n",
        "    else:\n",
        "      current_node = self.head\n",
        "      while current_node.next is not None:\n",
        "        current_node = current_node.next\n",
        "      current_node.next = new_node\n",
        "    self.size += 1\n",
        "\n",
        "  def print_all(self):\n",
        "    current_node = self.head\n",
        "    while current_node!=None:\n",
        "      print(current_node.data, end =  \"->\")\n",
        "      current_node = current_node.next\n",
        "    print()\n",
        "\n",
        "  def printAlternate(self,np):\n",
        "    if self.size<1:\n",
        "      return\n",
        "    print(np.data,end='->')\n",
        "    if np.next.next is not None:\n",
        "      self.printAlternate(np.next.next)\n",
        "\n",
        "\n",
        "\n",
        "s = SinglyLinkedList()\n",
        "s.append(10)\n",
        "s.append(91)\n",
        "s.append(19)\n",
        "s.append(20)\n",
        "s.append(19)\n",
        "s.append(11)\n",
        "s.append(100)\n",
        "s.append(200)\n",
        "print(\"Initial list\")\n",
        "s.print_all()\n",
        "\n",
        "nodePtr=s.head\n",
        "print(\"Alternates:\")\n",
        "s.printAlternate(nodePtr)\n"
      ]
    },
    {
      "cell_type": "markdown",
      "metadata": {
        "id": "30bTCK_iniFK"
      },
      "source": [
        "#10.\n",
        " Given a doubly linked list. Reverse it using recursion. Here we assume, we\n",
        "keep self.head pointer. We are not keeping self.tail.\n",
        "Given Linked List:\n",
        "\n",
        "``` bash\n",
        "10 -> 8 -> 4 -> 2\n",
        "2->4 -> 8 -> 10\n",
        "```"
      ]
    },
    {
      "cell_type": "code",
      "execution_count": null,
      "metadata": {
        "colab": {
          "base_uri": "https://localhost:8080/"
        },
        "id": "p5cW41Lgvdcc",
        "outputId": "9f5bd5f5-ac82-436a-836f-bdba00073be0"
      },
      "outputs": [
        {
          "name": "stdout",
          "output_type": "stream",
          "text": [
            "List: \n",
            "2 -> 55 -> 6 -> 9 -> None\n",
            "List: \n",
            "9 -> 6 -> 55 -> 2 -> None\n"
          ]
        }
      ],
      "source": [
        "class Node:\n",
        "  def __init__(self, data):\n",
        "      self.data = data\n",
        "      self.prev = None\n",
        "      self.next = None\n",
        "\n",
        "class DoublyLinkedList:\n",
        "  def __init__(self):\n",
        "    self.head = None\n",
        "    self.tail = None\n",
        "    self.size = 0\n",
        "\n",
        "  def append(self, data):\n",
        "    new_node = Node(data)\n",
        "\n",
        "    if self.head is None:\n",
        "      self.head = new_node\n",
        "      self.tail = new_node\n",
        "    else:\n",
        "      self.tail.next = new_node\n",
        "      new_node.prev = self.tail\n",
        "      self.tail = new_node\n",
        "    self.size += 1\n",
        "\n",
        "  def delete(self, data):\n",
        "    current = self.head\n",
        "    while current is not None:\n",
        "      if current.data == data:\n",
        "        if current == self.head:\n",
        "          self.head = current.next\n",
        "          if current == self.tail:\n",
        "            self.tail = None\n",
        "          else:\n",
        "            self.head.prev = None\n",
        "        elif current == self.tail:\n",
        "          current.prev.next = None\n",
        "          self.tail = current.prev\n",
        "\n",
        "        else:\n",
        "          current.prev.next = current.next\n",
        "          current.next.prev = current.prev\n",
        "\n",
        "        self.size -= 1\n",
        "        return\n",
        "      current = current.next\n",
        "\n",
        "\n",
        "  def print_all(self):\n",
        "    print(\"List: \")\n",
        "    current_node = self.head\n",
        "    while current_node:\n",
        "      print(current_node.data, end =\" -> \")\n",
        "      current_node = current_node.next\n",
        "    print(None)\n",
        "\n",
        "  def print_reverse(self):\n",
        "    print(\"Reverse List: \")\n",
        "    current_node = self.tail\n",
        "    while current_node:\n",
        "      print(current_node.data, end = \"->\")\n",
        "      current_node = current_node.prev\n",
        "    print()\n",
        "\n",
        "\n",
        "  def search(self, data):\n",
        "    current_node = self.head\n",
        "    while current_node is not None:\n",
        "      if current_node.data == data:\n",
        "        return True\n",
        "      current_node = current_node.next\n",
        "    return False\n",
        "\n",
        "\n",
        "  def clear(self):\n",
        "    self.head = None\n",
        "    self.tail = None\n",
        "\n",
        "  def reverse_recursive(self):\n",
        "      def reverse(node):\n",
        "          if node is None or node.next is None:\n",
        "              self.head = node\n",
        "              return node\n",
        "\n",
        "          next_node = reverse(node.next)\n",
        "          node.next.next = node\n",
        "          node.prev = node.next\n",
        "          node.next = None\n",
        "          return next_node\n",
        "\n",
        "      reverse(self.head)\n",
        "\n",
        "\n",
        "\n",
        "dll=DoublyLinkedList()\n",
        "\n",
        "dll.append(2)\n",
        "dll.append(55)\n",
        "dll.append(6)\n",
        "dll.append(9)\n",
        "\n",
        "dll.print_all()\n",
        "dll.reverse_recursive()\n",
        "dll.print_all()\n"
      ]
    },
    {
      "cell_type": "markdown",
      "metadata": {
        "id": "Tv9aSJU-oJK7"
      },
      "source": [
        "#11.\n",
        " Write a recursive function minRec(arr, n) to find the minimum element of an array. arr is the\n",
        "array and n is the length of the arr."
      ]
    },
    {
      "cell_type": "code",
      "execution_count": null,
      "metadata": {
        "colab": {
          "base_uri": "https://localhost:8080/"
        },
        "id": "eIo3RJ_SoM6D",
        "outputId": "10cf527e-f1bc-4b30-a109-204224d0453c"
      },
      "outputs": [
        {
          "name": "stdout",
          "output_type": "stream",
          "text": [
            "1\n"
          ]
        }
      ],
      "source": [
        "def minRec(arr, n):\n",
        "    if n == 1:\n",
        "        return arr[0]\n",
        "    return min(arr[0], minRec(arr[1:], n - 1))\n",
        "\n",
        "arr = [5, 2, 8, 3, 1, 6, 9, 7, 4]\n",
        "print(minRec(arr, len(arr)))\n"
      ]
    },
    {
      "cell_type": "markdown",
      "metadata": {
        "id": "ggICSH6po2tc"
      },
      "source": [
        "#12.\n",
        " Determine whether a string matches with a given pattern\n",
        "\n",
        "Given a string and a pattern, determine whether a string matches with a given pattern. The solution\n",
        "should not use any regex.\n",
        "\n",
        "For example,\n",
        "\n",
        "Input:\n",
        "\n",
        "string: codesleepcode\n",
        "\n",
        "pattern: XYX\n",
        "\n",
        "Output:\n",
        "\n",
        "X: code\n",
        "\n",
        "Y: sleep\n",
        "\n",
        "\n",
        "Input:\n",
        "\n",
        "string: codecodecode\n",
        "\n",
        "pattern: XXX\n",
        "\n",
        "Output:\n",
        "\n",
        "X: code"
      ]
    },
    {
      "cell_type": "code",
      "execution_count": 1,
      "metadata": {
        "colab": {
          "base_uri": "https://localhost:8080/"
        },
        "id": "HQndelPltjh0",
        "outputId": "ab3a7803-78f0-485d-b67f-7c336b76af35"
      },
      "outputs": [
        {
          "name": "stdout",
          "output_type": "stream",
          "text": [
            "Pattern matched:\n",
            "X: code\n",
            "Y: sleep\n",
            "Pattern matched:\n",
            "X: code\n"
          ]
        }
      ],
      "source": [
        "def pattern_match(string, pattern):\n",
        "    def backtrack(s, p, char_map, used):\n",
        "        if not s and not p:\n",
        "            return True, char_map\n",
        "        if not p:\n",
        "            return False, {}\n",
        "\n",
        "        current_char = p[0]\n",
        "        if current_char in char_map:\n",
        "            mapped_str = char_map[current_char]\n",
        "            if s.startswith(mapped_str):\n",
        "                return backtrack(s[len(mapped_str):], p[1:], char_map, used)\n",
        "            else:\n",
        "                return False, {}\n",
        "        else:\n",
        "            for end in range(1, len(s) + 1):\n",
        "                candidate = s[:end]\n",
        "                if candidate in used:\n",
        "                    continue\n",
        "                new_char_map = char_map.copy()\n",
        "                new_char_map[current_char] = candidate\n",
        "                new_used = used.copy()\n",
        "                new_used.add(candidate)\n",
        "                success, result_map = backtrack(s[end:], p[1:], new_char_map, new_used)\n",
        "                if success:\n",
        "                    return True, result_map\n",
        "            return False, {}\n",
        "\n",
        "    success, result_map = backtrack(string, pattern, {}, set())\n",
        "    if success:\n",
        "        return result_map\n",
        "    else:\n",
        "        return None\n",
        "\n",
        "# Example usage\n",
        "string1 = \"codesleepcode\"\n",
        "pattern1 = \"XYX\"\n",
        "result1 = pattern_match(string1, pattern1)\n",
        "if result1:\n",
        "    print(\"Pattern matched:\")\n",
        "    for key in sorted(result1.keys()):\n",
        "        print(f\"{key}: {result1[key]}\")\n",
        "else:\n",
        "    print(\"No match found.\")\n",
        "\n",
        "string2 = \"codecodecode\"\n",
        "pattern2 = \"XXX\"\n",
        "result2 = pattern_match(string2, pattern2)\n",
        "if result2:\n",
        "    print(\"Pattern matched:\")\n",
        "    for key in sorted(result2.keys()):\n",
        "        print(f\"{key}: {result2[key]}\")\n",
        "else:\n",
        "    print(\"No match found.\")"
      ]
    }
  ],
  "metadata": {
    "colab": {
      "provenance": []
    },
    "kernelspec": {
      "display_name": "Python 3",
      "name": "python3"
    },
    "language_info": {
      "name": "python"
    }
  },
  "nbformat": 4,
  "nbformat_minor": 0
}

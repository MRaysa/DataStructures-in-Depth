{
  "cells": [
    {
      "cell_type": "markdown",
      "metadata": {
        "id": "r0ItM232LGWB"
      },
      "source": [
        "#1.\n",
        " Write a function that will print nodes for each level of a binary search tree\n",
        "\n",
        "(Hint use a queue): : Example\n",
        "```bash\n",
        "10\n",
        "/ \\\n",
        "5 13\n",
        "/ \\ \\\n",
        "3 7 14\n",
        "```\n",
        "The output of the function will be:\n",
        "10\n",
        "5 13\n",
        "3 7 14"
      ]
    },
    {
      "cell_type": "code",
      "execution_count": null,
      "metadata": {
        "colab": {
          "base_uri": "https://localhost:8080/"
        },
        "id": "ckEILKx0I9c6",
        "outputId": "771c2e1c-1049-49c3-d42f-3aa12b291646"
      },
      "outputs": [
        {
          "name": "stdout",
          "output_type": "stream",
          "text": [
            "[10]\n",
            "[5, 13]\n",
            "[3, 7, 14]\n"
          ]
        }
      ],
      "source": [
        "class Node:\n",
        "  def __init__(self, data):\n",
        "    self.data = data\n",
        "    self.right_child = None\n",
        "    self.left_child = None\n",
        "\n",
        "class BinarySearchTree:\n",
        "  def __init__(self):\n",
        "    self.root = None\n",
        "\n",
        "  def insertR(self, root, data):\n",
        "      if root is None:\n",
        "          return Node(data)\n",
        "      else:\n",
        "          if data < root.data:\n",
        "              root.left_child = self.insertR(root.left_child, data)\n",
        "          else:\n",
        "              root.right_child = self.insertR(root.right_child, data)\n",
        "          return root\n",
        "\n",
        "  def insert(self, data):\n",
        "      self.root = self.insertR(self.root, data)\n",
        "\n",
        "  def find_min(self, root):\n",
        "    if root == None:\n",
        "      return\n",
        "    elif root.left_child == None:\n",
        "      return root.data\n",
        "    else:\n",
        "      return self.find_min(root.left_child)\n",
        "\n",
        "  def print_Nodes_In_Each_level(self,root):\n",
        "    if root is None:\n",
        "      return\n",
        "\n",
        "    queue = []\n",
        "    queue.append(root)\n",
        "\n",
        "    while len(queue)>0:\n",
        "      current_size = len(queue)\n",
        "      current_nodes = []\n",
        "\n",
        "      while current_size > 0 :\n",
        "        current_node = queue.pop(0)\n",
        "        current_nodes.append(current_node.data)\n",
        "        current_size -=1\n",
        "        if current_node.left_child is not None:\n",
        "          queue.append(current_node.left_child)\n",
        "        if current_node.right_child is not None:\n",
        "          queue.append(current_node.right_child)\n",
        "      print(current_nodes)\n",
        "\n",
        "\n",
        "bst =  BinarySearchTree()\n",
        "lst = [10,5,13,3,7,14]\n",
        "\n",
        "for i in lst:\n",
        "  bst.insert(i)\n",
        "\n",
        "bst.print_Nodes_In_Each_level(bst.root)"
      ]
    },
    {
      "cell_type": "markdown",
      "metadata": {
        "id": "VKC2aOqA4ZrT"
      },
      "source": [
        "2.\n",
        "Write a function that will print the largest element in each level of a binary search\n",
        "tree.\n",
        "\n",
        "```bash\n",
        "10\n",
        "/ \\\n",
        "5 13\n",
        "/ \\\n",
        "3 7\n",
        "```\n",
        "The output of the given tree when the function is\n",
        "applied:\n",
        "\n",
        "10\n",
        "\n",
        "13\n",
        "\n",
        "7"
      ]
    },
    {
      "cell_type": "code",
      "execution_count": null,
      "metadata": {
        "id": "CjiecHT8PTuO"
      },
      "outputs": [],
      "source": []
    },
    {
      "cell_type": "code",
      "execution_count": null,
      "metadata": {
        "id": "nzbWx9Dhz8TU"
      },
      "outputs": [],
      "source": [
        "class Node:\n",
        "  def __init__(self, data):\n",
        "    self.data = data\n",
        "    self.right_child = None\n",
        "    self.left_child = None\n",
        "\n",
        "class BinarySearchTree:\n",
        "  def __init__(self):\n",
        "    self.root = None\n",
        "\n",
        "  def insertR(self, root, data):\n",
        "      if root is None:\n",
        "          return Node(data)\n",
        "      else:\n",
        "          if data < root.data:\n",
        "              root.left_child = self.insertR(root.left_child, data)\n",
        "          else:\n",
        "              root.right_child = self.insertR(root.right_child, data)\n",
        "          return root\n",
        "\n",
        "  def insert(self, data):\n",
        "      self.root = self.insertR(self.root, data)\n",
        "\n",
        "  def find_min(self, root):\n",
        "    if root == None:\n",
        "      return\n",
        "    elif root.left_child == None:\n",
        "      return root.data\n",
        "    else:\n",
        "      return self.find_min(root.left_child)\n",
        "\n",
        "  def print_Nodes_In_Each_level(self,root):\n",
        "    if root is None:\n",
        "      return\n",
        "    queue = []\n",
        "    queue.append(root)\n",
        "\n",
        "    while len(queue)>0:\n",
        "      current_size = len(queue)\n",
        "      current_nodes = []\n",
        "\n",
        "      while current_size > 0 :\n",
        "        current_node = queue.pop(0)\n",
        "        current_node.append(current_node.data)\n",
        "        current_size -=1\n"
      ]
    },
    {
      "cell_type": "code",
      "execution_count": null,
      "metadata": {
        "id": "oFhwIEEQ6tyk"
      },
      "outputs": [],
      "source": []
    },
    {
      "cell_type": "markdown",
      "metadata": {
        "id": "EGy3CG7fFHuz"
      },
      "source": [
        "#3.\n",
        "Check whether the leaf nodes of a BST is even or\n",
        "\n",
        "odd.\n",
        "```bash\n",
        "10\n",
        "/ \\\n",
        "5 13\n",
        "/ \\ \\\n",
        "3 7 14\n",
        "```\n",
        "The output of the BST above is [odd, odd, even]."
      ]
    },
    {
      "cell_type": "code",
      "execution_count": null,
      "metadata": {
        "id": "_xFKCQRCFOHV"
      },
      "outputs": [],
      "source": [
        "class Node:\n",
        "  def __init__(self, data):\n",
        "    self.data = data\n",
        "    self.right_child = None\n",
        "    self.left_child = None\n",
        "\n",
        "class BinarySearchTree:\n",
        "  def __init__(self):\n",
        "    self.root = None\n",
        "\n",
        "  def insertR(self, root, data):\n",
        "      if root is None:\n",
        "          return Node(data)\n",
        "      else:\n",
        "          if data < root.data:\n",
        "              root.left_child = self.insertR(root.left_child, data)\n",
        "          else:\n",
        "              root.right_child = self.insertR(root.right_child, data)\n",
        "          return root\n",
        "\n",
        "  def insert(self, data):\n",
        "      self.root = self.insertR(self.root, data)\n",
        "\n",
        "  def leaf_even_odd(self,root):\n",
        "    if root is None:\n",
        "      return\n",
        "    self.leaf_even_odd(root.left_child)\n",
        "    if root.left_child is None and root.right_child is None:\n",
        "      if root.data % 2 == 0:\n",
        "        print(\"Even\", end = ' ')\n",
        "      else:\n",
        "        print(\"odd\", end = \" \")\n",
        "    self.leaf_even_odd(root.right_child)\n"
      ]
    },
    {
      "cell_type": "markdown",
      "metadata": {
        "id": "PPRF18UjURRF"
      },
      "source": [
        "#4.\n",
        "Traverse a BST and store in the numOfDescendants variable, the\n",
        "number of descendants that each of the nodes in the BST contains."
      ]
    },
    {
      "cell_type": "code",
      "execution_count": null,
      "metadata": {
        "id": "PevxHUCXvj9C"
      },
      "outputs": [],
      "source": []
    },
    {
      "cell_type": "code",
      "execution_count": null,
      "metadata": {
        "id": "NgvneSLzUTwH"
      },
      "outputs": [],
      "source": [
        "class Node:\n",
        "  def __init__(self, data):\n",
        "    self.data = data\n",
        "    self.right_child = None\n",
        "    self.left_child = None\n",
        "\n",
        "class BinarySearchTree:\n",
        "  def __init__(self):\n",
        "    self.root = None\n",
        "\n",
        "  def insertR(self, root, data):\n",
        "      if root is None:\n",
        "          return Node(data)\n",
        "      else:\n",
        "          if data < root.data:\n",
        "              root.left_child = self.insertR(root.left_child, data)\n",
        "          else:\n",
        "              root.right_child = self.insertR(root.right_child, data)\n",
        "          return root\n",
        "\n",
        "  def insert(self, data):\n",
        "      self.root = self.insertR(self.root, data)\n",
        "\n",
        "  def traverseBST(root):\n",
        "    if root is None:\n",
        "      return\n"
      ]
    },
    {
      "cell_type": "markdown",
      "metadata": {
        "id": "XlOOLqvLUXkK"
      },
      "source": [
        "#5.\n",
        "Check whether two BSTs are identical or not. Write a function\n",
        "isDuplicate(root1, root2) that will check whether the BST with root1 is\n",
        "exactly identical to the other BST with root2."
      ]
    },
    {
      "cell_type": "code",
      "execution_count": null,
      "metadata": {
        "id": "XTiIMr1oUap0"
      },
      "outputs": [],
      "source": [
        "from _typeshed import TraceFunction\n",
        "class Node:\n",
        "  def __init__(self, data):\n",
        "    self.data = data\n",
        "    self.right_child = None\n",
        "    self.left_child = None\n",
        "\n",
        "class BinarySearchTree:\n",
        "  def __init__(self):\n",
        "    self.root = None\n",
        "\n",
        "  def insertR(self, root, data):\n",
        "      if root is None:\n",
        "          return Node(data)\n",
        "      else:\n",
        "          if data < root.data:\n",
        "              root.left_child = self.insertR(root.left_child, data)\n",
        "          else:\n",
        "              root.right_child = self.insertR(root.right_child, data)\n",
        "          return root\n",
        "\n",
        "  def insert(self, data):\n",
        "      self.root = self.insertR(self.root, data)\n",
        "\n",
        "  def is_Identical(self,root1,root2):\n",
        "    if root1 is None and root2 is None:\n",
        "      return True\n",
        "    if root1 is not None and root2 is not None:\n",
        "      return False\n",
        "    if root1 is None and root2 is not None:\n",
        "      return False\n",
        "    return (root1.data == root2.data) and \\\n",
        "    self.is_Identical(root1.left_child, root2.left_child) and \\\n",
        "    self.is_Identical(root1.right_child, root2.right_child)\n",
        "\n"
      ]
    },
    {
      "cell_type": "markdown",
      "metadata": {
        "id": "P3sC4mCxUfD6"
      },
      "source": [
        "#6.\n",
        "Write a function int findLCA(root, nodeA, nodeB) that will return the\n",
        "value of the lowest common ancestor of the given nodeA and nodeB."
      ]
    },
    {
      "cell_type": "code",
      "execution_count": 1,
      "metadata": {
        "id": "uu0VEu9Sojo1"
      },
      "outputs": [
        {
          "name": "stdout",
          "output_type": "stream",
          "text": [
            "5\n"
          ]
        }
      ],
      "source": [
        "class Node:\n",
        "  def __init__(self, data):\n",
        "    self.data = data\n",
        "    self.right_child = None\n",
        "    self.left_child = None\n",
        "\n",
        "class BinarySearchTree:\n",
        "  def __init__(self):\n",
        "    self.root = None\n",
        "\n",
        "  def insertR(self, root, data):\n",
        "      if root is None:\n",
        "          return Node(data)\n",
        "      else:\n",
        "          if data < root.data:\n",
        "              root.left_child = self.insertR(root.left_child, data)\n",
        "          else:\n",
        "              root.right_child = self.insertR(root.right_child, data)\n",
        "          return root\n",
        "\n",
        "  def insert(self, data):\n",
        "      self.root = self.insertR(self.root, data)\n",
        "\n",
        "  def findLCA(self, root, nodeA, nodeB):\n",
        "    if root is None:\n",
        "        return None\n",
        "    if root.data == nodeA.data or root.data == nodeB.data:\n",
        "        return root.data\n",
        "    leftLCA = self.findLCA(root.left_child, nodeA, nodeB)\n",
        "    rightLCA = self.findLCA(root.right_child, nodeA, nodeB)\n",
        "\n",
        "    if leftLCA and rightLCA:\n",
        "        return root.data\n",
        "    elif leftLCA:\n",
        "        return leftLCA\n",
        "    else:\n",
        "        return rightLCA\n",
        "\n",
        "bst =  BinarySearchTree()\n",
        "lst = [10,5,13,3,7,14]\n",
        "\n",
        "for i in lst:\n",
        "  bst.insert(i)\n",
        "\n",
        "nodeA = Node(7)\n",
        "nodeB = Node(5)\n",
        "print(bst.findLCA(bst.root, nodeA, nodeB))"
      ]
    },
    {
      "cell_type": "code",
      "execution_count": null,
      "metadata": {
        "id": "ptXAJHJeokVE"
      },
      "outputs": [],
      "source": []
    }
  ],
  "metadata": {
    "colab": {
      "provenance": []
    },
    "kernelspec": {
      "display_name": "Python 3",
      "name": "python3"
    },
    "language_info": {
      "codemirror_mode": {
        "name": "ipython",
        "version": 3
      },
      "file_extension": ".py",
      "mimetype": "text/x-python",
      "name": "python",
      "nbconvert_exporter": "python",
      "pygments_lexer": "ipython3",
      "version": "3.10.7"
    }
  },
  "nbformat": 4,
  "nbformat_minor": 0
}

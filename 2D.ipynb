{
  "nbformat": 4,
  "nbformat_minor": 0,
  "metadata": {
    "colab": {
      "provenance": []
    },
    "kernelspec": {
      "name": "python3",
      "display_name": "Python 3"
    },
    "language_info": {
      "name": "python"
    }
  },
  "cells": [
    {
      "cell_type": "code",
      "execution_count": null,
      "metadata": {
        "colab": {
          "base_uri": "https://localhost:8080/"
        },
        "id": "npxDZuXHb12F",
        "outputId": "35e74bbb-ebb7-42ec-fee3-7659b49834d8"
      },
      "outputs": [
        {
          "output_type": "stream",
          "name": "stdout",
          "text": [
            "aysa  , 22220281 , \n",
            "siddika  , 3892928 , \n",
            "meem , 4585 , \n",
            "aysa  , 2 , \n",
            "siddika  , 3 , \n",
            "meem , A , \n"
          ]
        }
      ],
      "source": [
        "a = [\n",
        "    [\"aysa \", 2, 22220281],\n",
        "    [\"siddika \", 3, 3892928],\n",
        "    [\"meem\", \"A\", 4585] ]\n",
        "\n",
        "\n",
        "\n",
        "for i in range(len(a)):\n",
        "  for j in range(0,len(a[i]), 2):\n",
        "    print(a[i][j] , end = \" , \")\n",
        "\n",
        "  print()\n",
        "\n",
        "\n",
        "\n",
        "\n",
        "for i in range(len(a)):\n",
        "  for j in range(0,len(a[i]) -1):\n",
        "    print(a[i][j] , end = \" , \")\n",
        "\n",
        "  print()\n",
        "\n",
        "\n",
        "# row = 0\n",
        "# col = 1\n",
        "# print(a[row][col])\n",
        "\n",
        "\n",
        "\n",
        "# row = 1\n",
        "# col = 2\n",
        "# print(a[row][col])\n",
        "\n",
        "\n",
        "# row = 2\n",
        "# col = 1\n",
        "# print(a[row][col])"
      ]
    },
    {
      "cell_type": "code",
      "source": [
        "a = [\n",
        "    [\"aysa \", 2, 22220281],\n",
        "    [\"siddika \", 3, 3892928],\n",
        "    [\"meem\", \"A\", 4585] ]\n",
        "\n",
        "# row = 0\n",
        "# col = 1\n",
        "# del a[row][col]\n",
        "\n",
        "for i in range(len(a)):\n",
        "  del a[i][1]\n",
        "\n",
        "\n",
        "\n",
        "\n",
        "for i in range(len(a)):\n",
        "  for j in range(0,len(a[i])):\n",
        "    print(a[i][j] , end = \" , \")\n",
        "\n",
        "  print()\n",
        "\n",
        "\n"
      ],
      "metadata": {
        "colab": {
          "base_uri": "https://localhost:8080/"
        },
        "id": "ThzKXDp3jIJq",
        "outputId": "d3ff1d51-9d3b-4f37-e8bd-3dfe0ac278fe"
      },
      "execution_count": null,
      "outputs": [
        {
          "output_type": "stream",
          "name": "stdout",
          "text": [
            "aysa  , 22220281 , \n",
            "siddika  , 3892928 , \n",
            "meem , 4585 , \n"
          ]
        }
      ]
    },
    {
      "cell_type": "code",
      "source": [
        "a = [\n",
        "    [\"aysa \", 2, 22220281],\n",
        "    [\"siddika \", 3, 3892928],\n",
        "    [\"meem\", \"A\", 4585] ]\n",
        "\n",
        "a[1].append(\"mmmm\")\n",
        "print(a)\n",
        "\n",
        "row = 1\n",
        "col = 1\n",
        "a[row].insert(col,\"RRRR\")\n",
        "\n",
        "for i in range(len(a)):\n",
        "  for j in range(len(a[i])):\n",
        "    print(a[i][j] , end = \" ,,\")\n",
        "  print()"
      ],
      "metadata": {
        "colab": {
          "base_uri": "https://localhost:8080/"
        },
        "id": "mGM2bfKBkU1L",
        "outputId": "1f0910db-a5d6-40dd-b594-2de1231ca96a"
      },
      "execution_count": null,
      "outputs": [
        {
          "output_type": "stream",
          "name": "stdout",
          "text": [
            "[['aysa ', 2, 22220281], ['siddika ', 3, 3892928, 'mmmm'], ['meem', 'A', 4585]]\n",
            "aysa  ,,2 ,,22220281 ,,\n",
            "siddika  ,,RRRR ,,3 ,,3892928 ,,mmmm ,,\n",
            "meem ,,A ,,4585 ,,\n"
          ]
        }
      ]
    },
    {
      "cell_type": "markdown",
      "source": [
        "# Transpose matrix\n",
        "# Diagonal Differenca\n",
        "# Determinent of  matrix\n"
      ],
      "metadata": {
        "id": "9MIDeDgFlqeH"
      }
    },
    {
      "cell_type": "code",
      "source": [
        "def diagonal_difference(arr):\n",
        "    n = len(arr)\n",
        "    sum1 = 0  # sum of elements on the main diagonal\n",
        "    sum2 = 0  # sum of elements on the secondary diagonal\n",
        "\n",
        "    for i in range(n):\n",
        "        sum1 += arr[i][i]  # add element on main diagonal\n",
        "        sum2 += arr[i][n-i-1]  # add element on secondary diagonal\n",
        "\n",
        "    return abs(sum1 - sum2)  # return absolute difference\n",
        "\n",
        "# Example usage:\n",
        "arr = [[1, 2, 3], [4, 5, 6], [7, 8, 9]]\n",
        "print(diagonal_difference(arr))  # output: 0 (because sum1 = 15 and sum2 = 15)\n"
      ],
      "metadata": {
        "colab": {
          "base_uri": "https://localhost:8080/"
        },
        "id": "bQUmeMK341WR",
        "outputId": "8c054779-d59e-4ac8-ad15-a0b82818249f"
      },
      "execution_count": null,
      "outputs": [
        {
          "output_type": "stream",
          "name": "stdout",
          "text": [
            "0\n"
          ]
        }
      ]
    },
    {
      "cell_type": "markdown",
      "source": [
        "# Transposing a 2D list"
      ],
      "metadata": {
        "id": "Jxnkv4im4Y2X"
      }
    },
    {
      "cell_type": "code",
      "source": [
        "# create a 2D list\n",
        "my_list = [[1, 2, 3],\n",
        "           [4, 5, 6],\n",
        "           [7, 8, 9]]\n",
        "\n",
        "# transpose the list\n",
        "transposed = []\n",
        "for i in range(len(my_list[0])):\n",
        "    transposed.append([row[i] for row in my_list])\n",
        "\n",
        "print(transposed)\n",
        "# output: [[1, 4, 7], [2, 5, 8], [3, 6, 9]]\n"
      ],
      "metadata": {
        "colab": {
          "base_uri": "https://localhost:8080/"
        },
        "id": "ALYYjDFO4S-M",
        "outputId": "d2a1fd77-c51b-4748-c9d0-3947749ee45b"
      },
      "execution_count": null,
      "outputs": [
        {
          "output_type": "stream",
          "name": "stdout",
          "text": [
            "[[1, 4, 7], [2, 5, 8], [3, 6, 9]]\n"
          ]
        }
      ]
    },
    {
      "cell_type": "code",
      "source": [
        "rst = [[111111, \" A\", 72],\n",
        "       [2222222, \"W\" , 17],\n",
        "       [3333333, \"W\", 41],\n",
        "       [555555, \"A\", 89],\n",
        "       [7777777, \" A\", 32]]\n",
        "\n",
        "def grade(num):\n",
        "  if 80<= num <= 100:\n",
        "    return \"A\"\n",
        "  elif 60 <= num <= 79:\n",
        "    return \" B\"\n",
        "  elif 40 <= num <= 59:\n",
        "    return \"C\"\n",
        "  else:\n",
        "    return \"F\"\n",
        "\n",
        "#gradw dakta aca\n",
        "# for i in range(len(rst)):\n",
        "#   print(grade(rst[i][2]))\n",
        "\n",
        "# #withdrow\n",
        "# for i in range(len(rst)):\n",
        "#   g = grade(rst[i][2])\n",
        "#   if rst[i][1]==\"W\":\n",
        "#     g=\"W\"\n",
        "#   print(rst[i][0], g )\n",
        "\n",
        "# print(\"----------------------------------------------\")\n",
        "\n",
        "\n",
        "# for i in range(len(rst)):\n",
        "#   g = grade(rst[i][2])\n",
        "#   if rst[i][1]==\"W\":\n",
        "#     del rst[i]\n",
        "#     i-=1\n",
        "#   print(rst[i][0], g )\n",
        "\n",
        "\n",
        "while i < len(rst):\n",
        "  g = grade(rst[i][2])\n",
        "  if rst[i][1]==\"W\":\n",
        "    del rst[i]\n",
        "    i-=1\n",
        "  print(rst[i][0], g )\n",
        "  i+=1\n",
        "\n"
      ],
      "metadata": {
        "id": "ztLfFetolp6s"
      },
      "execution_count": null,
      "outputs": []
    },
    {
      "cell_type": "markdown",
      "source": [
        "1. You have a list A and and it has 10 values. Write a function cumulative(A) that will calculate and store cumulative\n",
        "values in the same list A so that the A will be the cumulative list. The function will return the final cumulative list\n",
        "A. (N.B: You can not use any extra list, stack, queue or any other data structure here. You have to reuse A)\n",
        "Example:\n",
        "\n",
        "2 5 2 1 4 1 5 9 3 1\n",
        "\n",
        "0 1 2 3 4 5 6 7 8 9\n",
        "\n",
        "After your function will return the following list\n",
        "\n",
        "\n",
        "2 7 9 10 14 15 20 29 32 33"
      ],
      "metadata": {
        "id": "wKmrr4zR9zBM"
      }
    },
    {
      "cell_type": "code",
      "source": [
        "def cumulative(A):\n",
        "    for i in range(1, len(A)):\n",
        "        A[i] += A[i-1]\n",
        "    return A\n",
        "A = [2, 5, 2, 1, 4, 1, 5, 9, 3, 1]\n",
        "print(cumulative(A))  # output: [2, 7, 9, 10, 14, 15, 20, 29, 32, 33]\n"
      ],
      "metadata": {
        "colab": {
          "base_uri": "https://localhost:8080/"
        },
        "id": "SkSK2APS64CQ",
        "outputId": "3c2d5a2d-e119-44ac-cfeb-d499e0a9edea"
      },
      "execution_count": null,
      "outputs": [
        {
          "output_type": "stream",
          "name": "stdout",
          "text": [
            "[2, 7, 9, 10, 14, 15, 20, 29, 32, 33]\n"
          ]
        }
      ]
    },
    {
      "cell_type": "markdown",
      "source": [
        "Write a function isMagicSquare(A) that will take a 2D-List/matrix A (size nxn) as argument and check whether\n",
        "matrix A forms an magic square or not. If A forms magic square, the function returns True, otherwise return\n",
        "False.\n",
        "N.B: A magic square is a square 2D matrix where the sum of every row, columns, and diagonal is same"
      ],
      "metadata": {
        "id": "AuBVGDzP9xyf"
      }
    },
    {
      "cell_type": "code",
      "source": [
        "def isMagicSquare(A):\n",
        "    n = len(A)  # get the size of the matrix\n",
        "    magic_sum = n*(n**2 + 1)//2  # calculate the magic sum\n",
        "\n",
        "    # check the sum of every row\n",
        "    for row in A:\n",
        "        if sum(row) != magic_sum:\n",
        "            return False\n",
        "\n",
        "    # check the sum of every column\n",
        "    for j in range(n):\n",
        "        col_sum = sum(A[i][j] for i in range(n))\n",
        "        if col_sum != magic_sum:\n",
        "            return False\n",
        "\n",
        "    # check the sum of the diagonal from top-left to bottom-right\n",
        "    diagonal_sum = sum(A[i][i] for i in range(n))\n",
        "    if diagonal_sum != magic_sum:\n",
        "        return False\n",
        "\n",
        "    # check the sum of the diagonal from top-right to bottom-left\n",
        "    diagonal_sum = sum(A[i][n-i-1] for i in range(n))\n",
        "    if diagonal_sum != magic_sum:\n",
        "        return False\n",
        "\n",
        "    # if all checks pass, return True\n",
        "    return True\n",
        "\n",
        "\n",
        "A = [[8, 1, 6],\n",
        "     [3, 5, 7],\n",
        "     [4, 9, 2]]\n",
        "\n",
        "print(isMagicSquare(A))  # output: True\n"
      ],
      "metadata": {
        "colab": {
          "base_uri": "https://localhost:8080/"
        },
        "id": "FHLI9KM27VRq",
        "outputId": "444f6404-f174-43a3-ef47-5f26257162c0"
      },
      "execution_count": null,
      "outputs": [
        {
          "output_type": "stream",
          "name": "stdout",
          "text": [
            "True\n"
          ]
        }
      ]
    },
    {
      "cell_type": "markdown",
      "source": [
        "2. Let’s there is a table of numbers for courses for each student. Each row represents a student. The number of\n",
        "courses vary for each student. Left column is the student ID. Ind river code, create and initialize a 2D list using\n",
        "the following table. You can name it as StudentNumbers\n",
        "\n",
        "1101 365 375 400 370 225 350 375\n",
        "\n",
        "1122 360 370 385 390 375\n",
        "\n",
        "1000 385 390 360 225 350 375\n",
        "\n",
        "1131 390 375 400\n",
        "\n",
        "2121 225 350 375\n",
        "\n",
        "2221 370 350 375 375 395\n",
        "\n",
        "2234 350 375 400 370\n",
        "\n",
        "a. Write a function calculateAverage(A) that will take the 2D list and calculate and store the average\n",
        "numbers for each student in another 2D list and return it. So the function returns a 2D list like below.\n",
        "\n",
        "1101 351.43\n",
        "\n",
        "1122 376\n",
        "\n",
        "1000 347.5\n",
        "\n",
        "1131 388.33\n",
        "\n",
        "2121 317\n",
        "\n",
        "2221 373\n",
        "\n",
        "2234 373.75\n",
        "\n",
        "b. Write your driver code to print the their ID and average numbers using the function\n",
        "calculateAverage(StudentNumbers)\n",
        "Code snippet:\n",
        "def calculateAverage(A):\n",
        ".\n",
        ".\n",
        "return newList\n",
        "#driver code\n",
        "StudentNumbers = […, …. ,… ]\n",
        "print(calculateAverage(StudentNumbers)"
      ],
      "metadata": {
        "id": "TlWmwANC7qL0"
      }
    },
    {
      "cell_type": "code",
      "source": [
        "def calculateAverage(A):\n",
        "    n = len(A)  # get the number of students\n",
        "    averages = [[A[i][0]] for i in range(n)]  # create a new 2D list with student IDs\n",
        "\n",
        "    # calculate the average for each student\n",
        "    for i in range(n):\n",
        "        num_courses = len(A[i]) - 1\n",
        "        if num_courses > 0:\n",
        "            average = sum(A[i][1:]) / num_courses\n",
        "            averages[i].append(round(average, 2))\n",
        "\n",
        "    return averages\n",
        "\n",
        "StudentNumbers = [[1101, 365, 375, 400, 370, 225, 350, 375],\n",
        "                  [1122, 360, 370, 385, 390, 375],\n",
        "                  [1000, 385, 390, 360, 225, 350, 375],\n",
        "                  [1131, 390, 375, 400],\n",
        "                  [2121, 225, 350, 375],\n",
        "                  [2221, 370, 350, 375, 375, 395],\n",
        "                  [2234, 350, 375, 400, 370]]\n",
        "\n",
        "averages = calculateAverage(StudentNumbers)\n",
        "for row in averages:\n",
        "    print(row[0], row[1])\n"
      ],
      "metadata": {
        "colab": {
          "base_uri": "https://localhost:8080/"
        },
        "id": "K1W0q_Q277Eg",
        "outputId": "61469d36-66cb-463d-bd56-a9df318257c3"
      },
      "execution_count": null,
      "outputs": [
        {
          "output_type": "stream",
          "name": "stdout",
          "text": [
            "1101 351.43\n",
            "1122 376.0\n",
            "1000 347.5\n",
            "1131 388.33\n",
            "2121 316.67\n",
            "2221 373.0\n",
            "2234 373.75\n"
          ]
        }
      ]
    },
    {
      "cell_type": "markdown",
      "source": [
        "1. Write a function deleteDigit(str) that will take a string str (str will have characters and digits) and return it after\n",
        "discarding all digits. Example: deleteDigit(“Hel1l62lo W78r1ld”) will return “Hello Worlds”.\n",
        "def deleteDigit(str):\n",
        "…\n",
        "…\n",
        "return str\n",
        "N. B: In this function, you cannot create new string. You should use the same str variable to return the final str. N.B:\n",
        "ASCII value for ‘0’ is 48 and for ‘9’ is 57"
      ],
      "metadata": {
        "id": "JUqOLFHO9e2g"
      }
    },
    {
      "cell_type": "code",
      "source": [
        "def deleteDigit(str):\n",
        "    i = 0\n",
        "    while i < len(str):\n",
        "        if ord(str[i]) >= 48 and ord(str[i]) <= 57:\n",
        "            str = str[:i] + str[i+1:]\n",
        "        else:\n",
        "            i += 1\n",
        "    return str\n",
        "\n",
        "str1 = \"Hel1l62lo W78r1ld\"\n",
        "str2 = deleteDigit(str1)\n",
        "print(str2)  # Output: \"Hello Worlds\"\n"
      ],
      "metadata": {
        "colab": {
          "base_uri": "https://localhost:8080/"
        },
        "id": "b0hijO329jFy",
        "outputId": "01ab89cc-e62d-487a-b820-41b3b461c5d7"
      },
      "execution_count": null,
      "outputs": [
        {
          "output_type": "stream",
          "name": "stdout",
          "text": [
            "Helllo Wrld\n"
          ]
        }
      ]
    },
    {
      "cell_type": "code",
      "source": [
        "import random\n",
        "def findFrequency(n):\n",
        "  numberList = [None] * n\n",
        "# Populate the list with random values from 0 to (n/2)\n",
        "  for i in range(n):\n",
        "    numberList[i] = random.randint(0, n//2)\n",
        "    numFrequency = dict()\n",
        "# Find the frequency of each digit\n",
        "  for num in numberList:\n",
        "    if num in numFrequency:\n",
        "      numFrequency[num] += 1\n",
        "    else:\n",
        "      numFrequency[num] = 1\n",
        "  return numFrequency\n",
        "\n",
        "print(findFrequency(10))\n",
        "# Output: {0: 2, 1: 1, 2: 2, 3: 1, 4: 1, 5: 2}\n",
        "print(findFrequency(20))\n",
        "# Output: {0: 3, 1: 3, 2: 3, 3: 4, 4: 4, 5: 1}\n",
        "print(findFrequency(30))\n",
        "# Output: {0: 4, 1: 5, 2: 3, 3: 5, 4: 3, 5: 4, 6: 2}"
      ],
      "metadata": {
        "colab": {
          "base_uri": "https://localhost:8080/"
        },
        "id": "A17GVf-Y-byo",
        "outputId": "572c0597-990e-4fa5-b75a-6c3de7d866f9"
      },
      "execution_count": null,
      "outputs": [
        {
          "output_type": "stream",
          "name": "stdout",
          "text": [
            "{5: 3, 1: 3, 4: 3, 3: 1}\n",
            "{0: 3, 5: 4, 3: 3, 4: 2, 10: 2, 9: 1, 1: 1, 8: 1, 2: 1, 7: 1, 6: 1}\n",
            "{9: 6, 10: 3, 12: 3, 13: 1, 7: 2, 3: 3, 1: 1, 15: 3, 2: 2, 4: 1, 0: 1, 11: 1, 6: 3}\n"
          ]
        }
      ]
    },
    {
      "cell_type": "code",
      "source": [
        "def mergeSortedList(list1, list2):\n",
        "  list3 = DoublyLinkedList()\n",
        "  p1 = list1.tail\n",
        "  p2 = list2.tail\n",
        "  while p1 and p2:\n",
        "    if p1.val <= p2.val:\n",
        "      list3.add(p1.val)\n",
        "      p1 = p1.prev\n",
        "    else:\n",
        "      list3.add(p2.val)\n",
        "      p2 = p2.prev\n",
        "  while p1:\n",
        "    list3.add(p1.val)\n",
        "    p1 = p1.prev\n",
        "  while p2:\n",
        "    list3.add(p2.val)\n",
        "  p2 = p2.prev\n",
        "  return list3\n",
        "\n",
        "list1 = DoublyLinkedList()\n",
        "list1.add(20)\n",
        "list1.add(15)\n",
        "list1.add(5)\n",
        "list2 = DoublyLinkedList()\n",
        "list2.add(40)\n",
        "list2.add(32)\n",
        "list2.add(24)\n",
        "list2.add(20)\n",
        "list2.add(12)\n",
        "list3 = mergeSortedList(list1, list2)\n",
        "print([val for val in list3]) # Output: [5, 12, 15, 20, 20, 24,\n",
        "32, 40]\n",
        "# Example B\n",
        "list1 = DoublyLinkedList()\n",
        "list1.add(20)\n",
        "list1.add(15)\n",
        "list1.add(5)\n",
        "list2 = DoublyLinkedList()\n",
        "list3 = mergeSortedList(list1, list2)\n",
        "print([val for val in list3]) # Output: [5, 15, 20]\n",
        "# Example C\n",
        "list1 = DoublyLinkedList()\n",
        "list2 = DoublyLinkedList()\n",
        "list2.add(20)\n",
        "list2.add(15)\n",
        "list2.add(5)\n",
        "list3 = mergeSortedList(list1, list2)\n",
        "print([val for val in list3]) # Output: [5, 15, 20]"
      ],
      "metadata": {
        "id": "VSiKpCjyA-Xs"
      },
      "execution_count": null,
      "outputs": []
    },
    {
      "cell_type": "code",
      "source": [
        "def mergeSortedStack(stack1, stack2):\n",
        "stack3 = []\n",
        "while stack1 and stack2:\n",
        "if stack1[-1] <= stack2[-1]:\n",
        "stack3.append(stack1.pop())\n",
        "else:\n",
        "stack3.append(stack2.pop())\n",
        "while stack1:\n",
        "stack3.append(stack1.pop())\n",
        "while stack2:\n",
        "stack3.append(stack2.pop())\n",
        "return stack3"
      ],
      "metadata": {
        "id": "wIoXZ9YnBrRj"
      },
      "execution_count": null,
      "outputs": []
    },
    {
      "cell_type": "markdown",
      "source": [
        "Given a stack s of integers. Assume, it has some integers in it. Write a function\n",
        "countNeg(s) that will return the number of negative integers present in that stack\n",
        "and the function also return a newStack that will contain the values of stack s in\n",
        "reverse order. Also assume push(), pop() , isEmpty(), peek(), size() are already\n",
        "implemented for this stack. Use them properly.\n",
        "Hints: you should use another stack/queue as helper. If you use helper\n",
        "stack, you can use it’s push(), pop() , isEmpty(), peek(), size(). For queue,\n",
        "you can just use the enqueue(), dequeue(), peek(), size(), isEmpty()\n",
        "functions"
      ],
      "metadata": {
        "id": "Jcrml9E9CvWe"
      }
    },
    {
      "cell_type": "code",
      "source": [
        "def countNeg(s):\n",
        "    newStack = Stack()\n",
        "    helperStack = Stack()\n",
        "    negCount = 0\n",
        "    while not s.isEmpty():\n",
        "        num = s.pop()\n",
        "        if num < 0:\n",
        "            negCount += 1\n",
        "        helperStack.push(num)\n",
        "    while helperStack is not isEmpty():\n",
        "        num = helperStack.pop()\n",
        "        s.push(num)\n",
        "        newStack.push(num)\n",
        "    return (negCount, newStack)\n"
      ],
      "metadata": {
        "id": "ttbgUlBDCwqI"
      },
      "execution_count": null,
      "outputs": []
    },
    {
      "cell_type": "markdown",
      "source": [
        "You have a list A . Write a function countPrime(A) that will count how many prime numbers\n",
        "are in the list A. The function will return the count. Example: 10\n",
        "2 5 2 1 4 1 5 9 3 1\n",
        "0 1 2 3 4 5 6 7 8 9\n",
        "your function will return 5 because there are five prime numbers in A. 2,5,2,5,3\n"
      ],
      "metadata": {
        "id": "etVRs9d_EWQC"
      }
    },
    {
      "cell_type": "code",
      "source": [
        "def isPrime(n):\n",
        "    if n < 2:\n",
        "        return False\n",
        "    for i in range(2, int(n**0.5)+1):\n",
        "        if n % i == 0:\n",
        "            return False\n",
        "    return True\n",
        "\n",
        "def countPrime(A):\n",
        "    count = 0\n",
        "    for num in A:\n",
        "        if isPrime(num):\n",
        "            count += 1\n",
        "    return count\n"
      ],
      "metadata": {
        "id": "zN9Efb33EXVE"
      },
      "execution_count": null,
      "outputs": []
    },
    {
      "cell_type": "markdown",
      "source": [
        ". Given a queue q of integers. Assume, it has some integers in it. Write a function\n",
        "countOdd(q) that will return the number of odd integers present in that queue and\n",
        "the function also return a newQueue that will contain the values of queue in reverse\n",
        "order. Also the enqueue(), dequeue(), peek(), size(), isEmpty() are already\n",
        "implemented for this queue. Use them properly. 10\n",
        "Hints: you should use another stack/queue as helper. If you use helper\n",
        "stack, you can use it’s push(), pop() , isEmpty(), peek(), size(). For queue,\n",
        "you can just use the enqueue(), dequeue(), peek(), size(), isEmpty()\n",
        "functions."
      ],
      "metadata": {
        "id": "sT7TX3QYEuA3"
      }
    },
    {
      "cell_type": "code",
      "source": [
        "from queue import Queue\n",
        "\n",
        "def countOdd(q):\n",
        "    count = 0\n",
        "    newQueue = Queue()\n",
        "    while not q.empty():\n",
        "        val = q.get()\n",
        "        if val % 2 != 0:\n",
        "            count += 1\n",
        "        newQueue.put(val)\n",
        "    while not newQueue.empty():\n",
        "        q.put(newQueue.get())\n",
        "    return count, q\n"
      ],
      "metadata": {
        "id": "7-NxNoYvEvMB"
      },
      "execution_count": null,
      "outputs": []
    },
    {
      "cell_type": "code",
      "source": [
        "def countOdd(q):\n",
        "    size = q.size()\n",
        "    count = 0\n",
        "    newQueue = Queue()\n",
        "    for i in range(size):\n",
        "        curr = q.dequeue()\n",
        "        if curr % 2 != 0:\n",
        "            count += 1\n",
        "        newQueue.enqueue(curr)\n",
        "    for i in range(size):\n",
        "        q.enqueue(newQueue.dequeue())\n",
        "    return count, q\n"
      ],
      "metadata": {
        "id": "TreoOJjBFI6U"
      },
      "execution_count": null,
      "outputs": []
    },
    {
      "cell_type": "markdown",
      "source": [],
      "metadata": {
        "id": "3IG0h94bFss3"
      }
    }
  ]
}
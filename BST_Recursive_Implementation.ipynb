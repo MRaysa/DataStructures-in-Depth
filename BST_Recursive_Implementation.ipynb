{
  "cells": [
    {
      "cell_type": "markdown",
      "metadata": {
        "id": "pVT6hFWhU1Wj"
      },
      "source": [
        "# ***Name : Mst. Aysa Siddika Meem***.\n"
      ]
    },
    {
      "cell_type": "markdown",
      "metadata": {
        "id": "UCZWPX80m6gH"
      },
      "source": [
        "#1.\n",
        " Write insert(self, data) function that will create a node and insert the node into a BST. You should\n",
        "write the insert function with iteration. Then Take a list of 12 elements. Randomly generate 12\n",
        "numbers and put them into the list. Then in a loop, use insert function to insert the elements in\n",
        "to a BST"
      ]
    },
    {
      "cell_type": "code",
      "execution_count": null,
      "metadata": {
        "colab": {
          "base_uri": "https://localhost:8080/"
        },
        "id": "hA6LaShDm5lc",
        "outputId": "02014af9-c454-4ce9-bd48-5697cf2089d1"
      },
      "outputs": [
        {
          "name": "stdout",
          "output_type": "stream",
          "text": [
            "10\n",
            "5\n",
            "12\n",
            "5\n"
          ]
        }
      ],
      "source": [
        "class Node:\n",
        "  def __init__(self, data):\n",
        "    self.data = data\n",
        "    self.right_child = None\n",
        "    self.left_child = None\n",
        "\n",
        "class BinarySearchTree:\n",
        "  def __init__(self):\n",
        "    self.root = None\n",
        "\n",
        "  def insert(self, data):\n",
        "    new_node= Node(data)\n",
        "    if self.root is None:\n",
        "      self.root = new_node\n",
        "    else:\n",
        "      current = self.root\n",
        "      parant = None\n",
        "      while current is not None:\n",
        "        parant = current\n",
        "        if new_node.data <= parant.data:\n",
        "          current = current.left_child\n",
        "        else:\n",
        "          current = current.right_child\n",
        "\n",
        "      if new_node.data <= parant.data:\n",
        "        parant.left_child = new_node\n",
        "      else:\n",
        "        parant.right_child = new_node\n",
        "\n",
        "\n",
        "\n",
        "tree1 = BinarySearchTree()\n",
        "\n",
        "\n",
        "tree1.insert(10)\n",
        "print(tree1.root.data)\n",
        "tree1.insert(5)\n",
        "print(tree1.root.left_child.data)\n",
        "tree1.insert(12)\n",
        "print(tree1.root.right_child.data)\n",
        "\n",
        "tree1.insert(4)\n",
        "print(tree1.root.left_child.data)\n"
      ]
    },
    {
      "cell_type": "markdown",
      "metadata": {
        "id": "Y82sQFkG2CIM"
      },
      "source": [
        "#2.\n",
        " Write insertR(self, data) that will create a node and insert the node into a BST with recursion.\n",
        "You should not use any iteration."
      ]
    },
    {
      "cell_type": "code",
      "execution_count": null,
      "metadata": {
        "colab": {
          "base_uri": "https://localhost:8080/"
        },
        "id": "Mv8_Udv5PHG8",
        "outputId": "98591222-2e36-4aa6-fdf2-e6bcbae14183"
      },
      "outputs": [
        {
          "name": "stdout",
          "output_type": "stream",
          "text": [
            "5\n",
            "10\n",
            "15\n",
            "50\n"
          ]
        }
      ],
      "source": [
        "class Node:\n",
        "    def __init__(self, data):\n",
        "        self.data = data\n",
        "        self.left_child = None\n",
        "        self.right_child = None\n",
        "\n",
        "class BinarySearchTree:\n",
        "    def __init__(self):\n",
        "        self.root = None\n",
        "\n",
        "    def insertR(self, data):\n",
        "        self.root = self.insertR_(self.root, data)\n",
        "\n",
        "    def insertR_(self, curr, data):\n",
        "        if curr is None:\n",
        "            return Node(data)\n",
        "\n",
        "        if data > curr.data:\n",
        "            curr.right_child = self.insertR_(curr.right_child, data)\n",
        "        else:\n",
        "            curr.left_child = self.insertR_(curr.left_child, data)\n",
        "\n",
        "        return curr\n",
        "\n",
        "    def inorder(self, root):\n",
        "        if root is None:\n",
        "            return\n",
        "        self.inorder(root.left_child)\n",
        "        print(root.data)\n",
        "        self.inorder(root.right_child)\n",
        "\n",
        "tree1 = BinarySearchTree()\n",
        "tree1.insertR(10)\n",
        "tree1.insertR(5)\n",
        "tree1.insertR(15)\n",
        "tree1.insertR(50)\n",
        "tree1.inorder(tree1.root)"
      ]
    },
    {
      "cell_type": "markdown",
      "metadata": {
        "id": "Cb3ly5ZvnC4-"
      },
      "source": [
        "#3.\n",
        " Write findMaxR(self, root) that will return the maximum of a BST using recursion."
      ]
    },
    {
      "cell_type": "code",
      "execution_count": null,
      "metadata": {
        "colab": {
          "base_uri": "https://localhost:8080/"
        },
        "id": "Vj7R8NbFnESH",
        "outputId": "2db6ffc2-439a-460b-80e6-dabcefc8c3d3"
      },
      "outputs": [
        {
          "name": "stdout",
          "output_type": "stream",
          "text": [
            "50\n"
          ]
        }
      ],
      "source": [
        "class Node:\n",
        "  def __init__(self, data):\n",
        "    self.data = data\n",
        "    self.right_child = None\n",
        "    self.left_child = None\n",
        "\n",
        "class BinarySearchTree:\n",
        "  def __init__(self):\n",
        "    self.root = None\n",
        "\n",
        "  def insertR(self, root, data):\n",
        "      if root is None:\n",
        "          return Node(data)\n",
        "      else:\n",
        "          if data < root.data:\n",
        "              root.left_child = self.insertR(root.left_child, data)\n",
        "          else:\n",
        "              root.right_child = self.insertR(root.right_child, data)\n",
        "          return root\n",
        "\n",
        "  def insert(self, data):\n",
        "      self.root = self.insertR(self.root, data)\n",
        "\n",
        "  def find_max(self, root):\n",
        "    if root == None:\n",
        "      return\n",
        "    elif root.right_child == None:\n",
        "      return root.data\n",
        "    else:\n",
        "      return self.find_max(root.right_child)\n",
        "\n",
        "\n",
        "tree1 = BinarySearchTree()\n",
        "tree1.insert(10)\n",
        "tree1.insert(5)\n",
        "tree1.insert(15)\n",
        "tree1.insert(50)\n",
        "\n",
        "\n",
        "print(tree1.find_max(tree1.root))"
      ]
    },
    {
      "cell_type": "markdown",
      "metadata": {
        "id": "KA0u2Qe72RgV"
      },
      "source": [
        "#4.\n",
        " Write findMinR(self, root) that will return the minimum of a BST using recursion."
      ]
    },
    {
      "cell_type": "code",
      "execution_count": null,
      "metadata": {
        "colab": {
          "base_uri": "https://localhost:8080/"
        },
        "id": "31RJNMsOCdde",
        "outputId": "d34f6d39-20c5-48fa-f343-3da4c379c2e2"
      },
      "outputs": [
        {
          "name": "stdout",
          "output_type": "stream",
          "text": [
            "5\n"
          ]
        }
      ],
      "source": [
        "class Node:\n",
        "  def __init__(self, data):\n",
        "    self.data = data\n",
        "    self.right_child = None\n",
        "    self.left_child = None\n",
        "\n",
        "class BinarySearchTree:\n",
        "  def __init__(self):\n",
        "    self.root = None\n",
        "\n",
        "  def insertR(self, root, data):\n",
        "      if root is None:\n",
        "          return Node(data)\n",
        "      else:\n",
        "          if data < root.data:\n",
        "              root.left_child = self.insertR(root.left_child, data)\n",
        "          else:\n",
        "              root.right_child = self.insertR(root.right_child, data)\n",
        "          return root\n",
        "\n",
        "  def insert(self, data):\n",
        "      self.root = self.insertR(self.root, data)\n",
        "\n",
        "  def find_min(self, root):\n",
        "    if root == None:\n",
        "      return\n",
        "    elif root.left_child == None:\n",
        "      return root.data\n",
        "    else:\n",
        "      return self.find_min(root.left_child)\n",
        "\n",
        "\n",
        "tree1 = BinarySearchTree()\n",
        "tree1.insert(10)\n",
        "tree1.insert(5)\n",
        "tree1.insert(15)\n",
        "tree1.insert(50)\n",
        "\n",
        "\n",
        "print(tree1.find_min(tree1.root))"
      ]
    },
    {
      "cell_type": "markdown",
      "metadata": {
        "id": "_CU-6WpCnEx2"
      },
      "source": [
        "#5.\n",
        " Write searchR(self, root, data) that will search the data in a BST using recursion"
      ]
    },
    {
      "cell_type": "code",
      "execution_count": null,
      "metadata": {
        "colab": {
          "base_uri": "https://localhost:8080/"
        },
        "id": "ByYYEYlfDBje",
        "outputId": "60d00822-11c2-4040-c4c5-3510ead8b71d"
      },
      "outputs": [
        {
          "name": "stdout",
          "output_type": "stream",
          "text": [
            "True\n"
          ]
        }
      ],
      "source": [
        "class Node:\n",
        "  def __init__(self, data):\n",
        "    self.data = data\n",
        "    self.right_child = None\n",
        "    self.left_child = None\n",
        "\n",
        "class BinarySearchTree:\n",
        "  def __init__(self):\n",
        "    self.root = None\n",
        "\n",
        "  def insertR(self, root, data):\n",
        "      if root is None:\n",
        "          return Node(data)\n",
        "      else:\n",
        "          if data < root.data:\n",
        "              root.left_child = self.insertR(root.left_child, data)\n",
        "          else:\n",
        "              root.right_child = self.insertR(root.right_child, data)\n",
        "          return root\n",
        "\n",
        "  def insert(self, data):\n",
        "      self.root = self.insertR(self.root, data)\n",
        "\n",
        "  def searchR(self, root, data):\n",
        "    if root is None:\n",
        "      return False\n",
        "    else:\n",
        "      if (data == root.data):\n",
        "        return True\n",
        "      elif (data < root.data):\n",
        "        return self.searchR(root.left_child, data)\n",
        "      else:\n",
        "        return self.searchR(root.right_child, data)\n",
        "\n",
        "tree1 = BinarySearchTree()\n",
        "tree1.insert(10)\n",
        "tree1.insert(5)\n",
        "tree1.insert(15)\n",
        "tree1.insert(50)\n",
        "\n",
        "\n",
        "print(tree1.searchR(tree1.root, 5))"
      ]
    }
  ],
  "metadata": {
    "colab": {
      "provenance": []
    },
    "kernelspec": {
      "display_name": "Python 3",
      "name": "python3"
    },
    "language_info": {
      "name": "python"
    }
  },
  "nbformat": 4,
  "nbformat_minor": 0
}
